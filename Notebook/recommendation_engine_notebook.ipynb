{
 "cells": [
  {
   "cell_type": "markdown",
   "metadata": {},
   "source": [
    "<h1>Groceries recommendation engine</h1>"
   ]
  },
  {
   "cell_type": "code",
   "execution_count": 19,
   "metadata": {},
   "outputs": [],
   "source": [
    "#Importing required libraries\n",
    "import pandas as pd\n",
    "import numpy as np\n",
    "import nltk\n",
    "import re\n",
    "from nltk.corpus import stopwords\n",
    "from textblob import Word\n",
    "from sklearn.metrics.pairwise import cosine_similarity\n",
    "from sklearn.feature_extraction.text import CountVectorizer\n",
    "from rake_nltk import Rake\n",
    "import pickle"
   ]
  },
  {
   "cell_type": "code",
   "execution_count": 2,
   "metadata": {},
   "outputs": [
    {
     "data": {
      "text/html": [
       "<div>\n",
       "<style scoped>\n",
       "    .dataframe tbody tr th:only-of-type {\n",
       "        vertical-align: middle;\n",
       "    }\n",
       "\n",
       "    .dataframe tbody tr th {\n",
       "        vertical-align: top;\n",
       "    }\n",
       "\n",
       "    .dataframe thead th {\n",
       "        text-align: right;\n",
       "    }\n",
       "</style>\n",
       "<table border=\"1\" class=\"dataframe\">\n",
       "  <thead>\n",
       "    <tr style=\"text-align: right;\">\n",
       "      <th></th>\n",
       "      <th>category</th>\n",
       "      <th>tech1</th>\n",
       "      <th>description</th>\n",
       "      <th>fit</th>\n",
       "      <th>title</th>\n",
       "      <th>also_buy</th>\n",
       "      <th>image</th>\n",
       "      <th>tech2</th>\n",
       "      <th>brand</th>\n",
       "      <th>feature</th>\n",
       "      <th>rank</th>\n",
       "      <th>also_view</th>\n",
       "      <th>main_cat</th>\n",
       "      <th>similar_item</th>\n",
       "      <th>date</th>\n",
       "      <th>price</th>\n",
       "      <th>asin</th>\n",
       "      <th>details</th>\n",
       "    </tr>\n",
       "  </thead>\n",
       "  <tbody>\n",
       "    <tr>\n",
       "      <th>0</th>\n",
       "      <td>[Grocery &amp; Gourmet Food, Dairy, Cheese &amp; Eggs,...</td>\n",
       "      <td></td>\n",
       "      <td>[BEEMSTER GOUDA CHEESE AGED 18/24 MONTHS, Stat...</td>\n",
       "      <td></td>\n",
       "      <td>Beemster Gouda - Aged 18/24 Months - App. 1.5 Lbs</td>\n",
       "      <td>[]</td>\n",
       "      <td>[]</td>\n",
       "      <td></td>\n",
       "      <td>Ariola Imports</td>\n",
       "      <td>[]</td>\n",
       "      <td>165,181 in Grocery &amp; Gourmet Food (</td>\n",
       "      <td>[B0000D9MYM, B0000D9MYL, B00ADHIGBA, B00H9OX59...</td>\n",
       "      <td>Grocery</td>\n",
       "      <td></td>\n",
       "      <td></td>\n",
       "      <td>$41.91</td>\n",
       "      <td>0681727810</td>\n",
       "      <td>NaN</td>\n",
       "    </tr>\n",
       "    <tr>\n",
       "      <th>1</th>\n",
       "      <td>[Grocery &amp; Gourmet Food, Cooking &amp; Baking, Sug...</td>\n",
       "      <td></td>\n",
       "      <td>[Shipped from UK, please allow 10 to 21 busine...</td>\n",
       "      <td></td>\n",
       "      <td>Trim Healthy Mama Xylitol</td>\n",
       "      <td>[B01898YHXK, B01BCM6LAC, B00Q4OL47O, B00Q4OL5Q...</td>\n",
       "      <td>[https://images-na.ssl-images-amazon.com/image...</td>\n",
       "      <td></td>\n",
       "      <td></td>\n",
       "      <td>[]</td>\n",
       "      <td>315,867 in Grocery &amp; Gourmet Food (</td>\n",
       "      <td>[]</td>\n",
       "      <td>Grocery</td>\n",
       "      <td></td>\n",
       "      <td></td>\n",
       "      <td></td>\n",
       "      <td>0853347867</td>\n",
       "      <td>NaN</td>\n",
       "    </tr>\n",
       "    <tr>\n",
       "      <th>2</th>\n",
       "      <td>[Grocery &amp; Gourmet Food, Cooking &amp; Baking, Fro...</td>\n",
       "      <td></td>\n",
       "      <td>[Jazz up your cakes with a sparkling monogram ...</td>\n",
       "      <td></td>\n",
       "      <td>Letter C - Swarovski Crystal Monogram Wedding ...</td>\n",
       "      <td>[]</td>\n",
       "      <td>[]</td>\n",
       "      <td></td>\n",
       "      <td>Unik Occasions</td>\n",
       "      <td>[]</td>\n",
       "      <td>[&gt;#669,941 in Kitchen &amp; Dining (See Top 100 in...</td>\n",
       "      <td>[B07DXN65TF]</td>\n",
       "      <td>Amazon Home</td>\n",
       "      <td></td>\n",
       "      <td>September 21, 2010</td>\n",
       "      <td>$29.95</td>\n",
       "      <td>1888861118</td>\n",
       "      <td>NaN</td>\n",
       "    </tr>\n",
       "    <tr>\n",
       "      <th>3</th>\n",
       "      <td>[Grocery &amp; Gourmet Food, Cooking &amp; Baking, Fro...</td>\n",
       "      <td></td>\n",
       "      <td>[Large Letter - Height 4.75\"]</td>\n",
       "      <td></td>\n",
       "      <td>Letter H - Swarovski Crystal Monogram Wedding ...</td>\n",
       "      <td>[]</td>\n",
       "      <td>[]</td>\n",
       "      <td></td>\n",
       "      <td>Other</td>\n",
       "      <td>[Large Letter - Height 4.75\"]</td>\n",
       "      <td>[&gt;#832,581 in Kitchen &amp; Dining (See Top 100 in...</td>\n",
       "      <td>[]</td>\n",
       "      <td>Amazon Home</td>\n",
       "      <td></td>\n",
       "      <td>September 11, 2011</td>\n",
       "      <td>$11.45</td>\n",
       "      <td>1888861517</td>\n",
       "      <td>NaN</td>\n",
       "    </tr>\n",
       "    <tr>\n",
       "      <th>4</th>\n",
       "      <td>[Grocery &amp; Gourmet Food, Cooking &amp; Baking, Fro...</td>\n",
       "      <td></td>\n",
       "      <td>[4.75\"]</td>\n",
       "      <td></td>\n",
       "      <td>Letter S - Swarovski Crystal Monogram Wedding ...</td>\n",
       "      <td>[]</td>\n",
       "      <td>[]</td>\n",
       "      <td></td>\n",
       "      <td>Unik Occasions</td>\n",
       "      <td>[4.75\" height]</td>\n",
       "      <td>[&gt;#590,999 in Kitchen &amp; Dining (See Top 100 in...</td>\n",
       "      <td>[]</td>\n",
       "      <td>Amazon Home</td>\n",
       "      <td></td>\n",
       "      <td>September 11, 2011</td>\n",
       "      <td>$15.00</td>\n",
       "      <td>1888861614</td>\n",
       "      <td>NaN</td>\n",
       "    </tr>\n",
       "  </tbody>\n",
       "</table>\n",
       "</div>"
      ],
      "text/plain": [
       "                                            category tech1  \\\n",
       "0  [Grocery & Gourmet Food, Dairy, Cheese & Eggs,...         \n",
       "1  [Grocery & Gourmet Food, Cooking & Baking, Sug...         \n",
       "2  [Grocery & Gourmet Food, Cooking & Baking, Fro...         \n",
       "3  [Grocery & Gourmet Food, Cooking & Baking, Fro...         \n",
       "4  [Grocery & Gourmet Food, Cooking & Baking, Fro...         \n",
       "\n",
       "                                         description fit  \\\n",
       "0  [BEEMSTER GOUDA CHEESE AGED 18/24 MONTHS, Stat...       \n",
       "1  [Shipped from UK, please allow 10 to 21 busine...       \n",
       "2  [Jazz up your cakes with a sparkling monogram ...       \n",
       "3                      [Large Letter - Height 4.75\"]       \n",
       "4                                            [4.75\"]       \n",
       "\n",
       "                                               title  \\\n",
       "0  Beemster Gouda - Aged 18/24 Months - App. 1.5 Lbs   \n",
       "1                          Trim Healthy Mama Xylitol   \n",
       "2  Letter C - Swarovski Crystal Monogram Wedding ...   \n",
       "3  Letter H - Swarovski Crystal Monogram Wedding ...   \n",
       "4  Letter S - Swarovski Crystal Monogram Wedding ...   \n",
       "\n",
       "                                            also_buy  \\\n",
       "0                                                 []   \n",
       "1  [B01898YHXK, B01BCM6LAC, B00Q4OL47O, B00Q4OL5Q...   \n",
       "2                                                 []   \n",
       "3                                                 []   \n",
       "4                                                 []   \n",
       "\n",
       "                                               image tech2           brand  \\\n",
       "0                                                 []        Ariola Imports   \n",
       "1  [https://images-na.ssl-images-amazon.com/image...                         \n",
       "2                                                 []        Unik Occasions   \n",
       "3                                                 []                 Other   \n",
       "4                                                 []        Unik Occasions   \n",
       "\n",
       "                         feature  \\\n",
       "0                             []   \n",
       "1                             []   \n",
       "2                             []   \n",
       "3  [Large Letter - Height 4.75\"]   \n",
       "4                 [4.75\" height]   \n",
       "\n",
       "                                                rank  \\\n",
       "0                165,181 in Grocery & Gourmet Food (   \n",
       "1                315,867 in Grocery & Gourmet Food (   \n",
       "2  [>#669,941 in Kitchen & Dining (See Top 100 in...   \n",
       "3  [>#832,581 in Kitchen & Dining (See Top 100 in...   \n",
       "4  [>#590,999 in Kitchen & Dining (See Top 100 in...   \n",
       "\n",
       "                                           also_view     main_cat  \\\n",
       "0  [B0000D9MYM, B0000D9MYL, B00ADHIGBA, B00H9OX59...      Grocery   \n",
       "1                                                 []      Grocery   \n",
       "2                                       [B07DXN65TF]  Amazon Home   \n",
       "3                                                 []  Amazon Home   \n",
       "4                                                 []  Amazon Home   \n",
       "\n",
       "  similar_item                date   price        asin details  \n",
       "0                                   $41.91  0681727810     NaN  \n",
       "1                                           0853347867     NaN  \n",
       "2               September 21, 2010  $29.95  1888861118     NaN  \n",
       "3               September 11, 2011  $11.45  1888861517     NaN  \n",
       "4               September 11, 2011  $15.00  1888861614     NaN  "
      ]
     },
     "execution_count": 2,
     "metadata": {},
     "output_type": "execute_result"
    }
   ],
   "source": [
    "#reading the input files\n",
    "df = pd.read_json(r\"C:\\Users\\Santhosh Kumar\\Downloads\\meta_Grocery_and_Gourmet_Food.json\\meta_Grocery_and_Gourmet_Food.json\", lines=True)\n",
    "df.head()"
   ]
  },
  {
   "cell_type": "code",
   "execution_count": 3,
   "metadata": {},
   "outputs": [
    {
     "data": {
      "text/html": [
       "<div>\n",
       "<style scoped>\n",
       "    .dataframe tbody tr th:only-of-type {\n",
       "        vertical-align: middle;\n",
       "    }\n",
       "\n",
       "    .dataframe tbody tr th {\n",
       "        vertical-align: top;\n",
       "    }\n",
       "\n",
       "    .dataframe thead th {\n",
       "        text-align: right;\n",
       "    }\n",
       "</style>\n",
       "<table border=\"1\" class=\"dataframe\">\n",
       "  <thead>\n",
       "    <tr style=\"text-align: right;\">\n",
       "      <th></th>\n",
       "      <th>title</th>\n",
       "      <th>description</th>\n",
       "      <th>brand</th>\n",
       "    </tr>\n",
       "  </thead>\n",
       "  <tbody>\n",
       "    <tr>\n",
       "      <th>0</th>\n",
       "      <td>Beemster Gouda - Aged 18/24 Months - App. 1.5 Lbs</td>\n",
       "      <td>[BEEMSTER GOUDA CHEESE AGED 18/24 MONTHS, Stat...</td>\n",
       "      <td>Ariola Imports</td>\n",
       "    </tr>\n",
       "    <tr>\n",
       "      <th>1</th>\n",
       "      <td>Trim Healthy Mama Xylitol</td>\n",
       "      <td>[Shipped from UK, please allow 10 to 21 busine...</td>\n",
       "      <td></td>\n",
       "    </tr>\n",
       "    <tr>\n",
       "      <th>2</th>\n",
       "      <td>Letter C - Swarovski Crystal Monogram Wedding ...</td>\n",
       "      <td>[Jazz up your cakes with a sparkling monogram ...</td>\n",
       "      <td>Unik Occasions</td>\n",
       "    </tr>\n",
       "    <tr>\n",
       "      <th>3</th>\n",
       "      <td>Letter H - Swarovski Crystal Monogram Wedding ...</td>\n",
       "      <td>[Large Letter - Height 4.75\"]</td>\n",
       "      <td>Other</td>\n",
       "    </tr>\n",
       "    <tr>\n",
       "      <th>4</th>\n",
       "      <td>Letter S - Swarovski Crystal Monogram Wedding ...</td>\n",
       "      <td>[4.75\"]</td>\n",
       "      <td>Unik Occasions</td>\n",
       "    </tr>\n",
       "  </tbody>\n",
       "</table>\n",
       "</div>"
      ],
      "text/plain": [
       "                                               title  \\\n",
       "0  Beemster Gouda - Aged 18/24 Months - App. 1.5 Lbs   \n",
       "1                          Trim Healthy Mama Xylitol   \n",
       "2  Letter C - Swarovski Crystal Monogram Wedding ...   \n",
       "3  Letter H - Swarovski Crystal Monogram Wedding ...   \n",
       "4  Letter S - Swarovski Crystal Monogram Wedding ...   \n",
       "\n",
       "                                         description           brand  \n",
       "0  [BEEMSTER GOUDA CHEESE AGED 18/24 MONTHS, Stat...  Ariola Imports  \n",
       "1  [Shipped from UK, please allow 10 to 21 busine...                  \n",
       "2  [Jazz up your cakes with a sparkling monogram ...  Unik Occasions  \n",
       "3                      [Large Letter - Height 4.75\"]           Other  \n",
       "4                                            [4.75\"]  Unik Occasions  "
      ]
     },
     "execution_count": 3,
     "metadata": {},
     "output_type": "execute_result"
    }
   ],
   "source": [
    "#Selecting only the required columns for further analysis\n",
    "df_v1 = df[['title','description','brand']]\n",
    "df_v1.head()"
   ]
  },
  {
   "cell_type": "code",
   "execution_count": 4,
   "metadata": {},
   "outputs": [
    {
     "data": {
      "text/plain": [
       "287051"
      ]
     },
     "execution_count": 4,
     "metadata": {},
     "output_type": "execute_result"
    }
   ],
   "source": [
    "len(df_v1)"
   ]
  },
  {
   "cell_type": "code",
   "execution_count": 5,
   "metadata": {},
   "outputs": [],
   "source": [
    "#Selecting only top 5000 records for further analysis\n",
    "df_v1 = df_v1.head(5000)"
   ]
  },
  {
   "cell_type": "code",
   "execution_count": 6,
   "metadata": {},
   "outputs": [],
   "source": [
    "#Business logic to remove noises from the dataset\n",
    "def pre_processing(df, stop_words):\n",
    "    df['description'] = df['description'].apply(lambda x: \" \".join(x.lower() for x in x))\n",
    "    df['description'] = df['description'].str.replace('[^\\w\\s]', '')\n",
    "    df['description'] = df['description'].str.replace('\\d', '')\n",
    "    df['description'] = df['description'].apply(lambda x: \" \".join(x for x in x.split() if x not in stop_words)) \n",
    "    df['description'] = df['description'].apply(lambda x: \" \".join([Word(x).lemmatize() for x in x.split()]))\n",
    "    return df"
   ]
  },
  {
   "cell_type": "code",
   "execution_count": 7,
   "metadata": {},
   "outputs": [
    {
     "name": "stderr",
     "output_type": "stream",
     "text": [
      "E:\\Anaconda3\\lib\\site-packages\\ipykernel_launcher.py:4: FutureWarning: The default value of regex will change from True to False in a future version.\n",
      "  after removing the cwd from sys.path.\n",
      "E:\\Anaconda3\\lib\\site-packages\\ipykernel_launcher.py:5: FutureWarning: The default value of regex will change from True to False in a future version.\n",
      "  \"\"\"\n"
     ]
    },
    {
     "data": {
      "text/html": [
       "<div>\n",
       "<style scoped>\n",
       "    .dataframe tbody tr th:only-of-type {\n",
       "        vertical-align: middle;\n",
       "    }\n",
       "\n",
       "    .dataframe tbody tr th {\n",
       "        vertical-align: top;\n",
       "    }\n",
       "\n",
       "    .dataframe thead th {\n",
       "        text-align: right;\n",
       "    }\n",
       "</style>\n",
       "<table border=\"1\" class=\"dataframe\">\n",
       "  <thead>\n",
       "    <tr style=\"text-align: right;\">\n",
       "      <th></th>\n",
       "      <th>title</th>\n",
       "      <th>description</th>\n",
       "      <th>brand</th>\n",
       "    </tr>\n",
       "  </thead>\n",
       "  <tbody>\n",
       "    <tr>\n",
       "      <th>0</th>\n",
       "      <td>Beemster Gouda - Aged 18/24 Months - App. 1.5 Lbs</td>\n",
       "      <td>beemster gouda cheese aged month statement reg...</td>\n",
       "      <td>Ariola Imports</td>\n",
       "    </tr>\n",
       "    <tr>\n",
       "      <th>1</th>\n",
       "      <td>Trim Healthy Mama Xylitol</td>\n",
       "      <td>shipped uk please allow business day arrival e...</td>\n",
       "      <td></td>\n",
       "    </tr>\n",
       "    <tr>\n",
       "      <th>2</th>\n",
       "      <td>Letter C - Swarovski Crystal Monogram Wedding ...</td>\n",
       "      <td>jazz cake sparkling monogram sparkling collect...</td>\n",
       "      <td>Unik Occasions</td>\n",
       "    </tr>\n",
       "    <tr>\n",
       "      <th>3</th>\n",
       "      <td>Letter H - Swarovski Crystal Monogram Wedding ...</td>\n",
       "      <td>large letter height</td>\n",
       "      <td>Other</td>\n",
       "    </tr>\n",
       "    <tr>\n",
       "      <th>4</th>\n",
       "      <td>Letter S - Swarovski Crystal Monogram Wedding ...</td>\n",
       "      <td></td>\n",
       "      <td>Unik Occasions</td>\n",
       "    </tr>\n",
       "  </tbody>\n",
       "</table>\n",
       "</div>"
      ],
      "text/plain": [
       "                                               title  \\\n",
       "0  Beemster Gouda - Aged 18/24 Months - App. 1.5 Lbs   \n",
       "1                          Trim Healthy Mama Xylitol   \n",
       "2  Letter C - Swarovski Crystal Monogram Wedding ...   \n",
       "3  Letter H - Swarovski Crystal Monogram Wedding ...   \n",
       "4  Letter S - Swarovski Crystal Monogram Wedding ...   \n",
       "\n",
       "                                         description           brand  \n",
       "0  beemster gouda cheese aged month statement reg...  Ariola Imports  \n",
       "1  shipped uk please allow business day arrival e...                  \n",
       "2  jazz cake sparkling monogram sparkling collect...  Unik Occasions  \n",
       "3                                large letter height           Other  \n",
       "4                                                     Unik Occasions  "
      ]
     },
     "execution_count": 7,
     "metadata": {},
     "output_type": "execute_result"
    }
   ],
   "source": [
    "#Preprocessing the data\n",
    "stop_words = stopwords.words('english')\n",
    "train = pre_processing(df_v1,stop_words)\n",
    "train.head()"
   ]
  },
  {
   "cell_type": "code",
   "execution_count": 9,
   "metadata": {},
   "outputs": [
    {
     "data": {
      "text/html": [
       "<div>\n",
       "<style scoped>\n",
       "    .dataframe tbody tr th:only-of-type {\n",
       "        vertical-align: middle;\n",
       "    }\n",
       "\n",
       "    .dataframe tbody tr th {\n",
       "        vertical-align: top;\n",
       "    }\n",
       "\n",
       "    .dataframe thead th {\n",
       "        text-align: right;\n",
       "    }\n",
       "</style>\n",
       "<table border=\"1\" class=\"dataframe\">\n",
       "  <thead>\n",
       "    <tr style=\"text-align: right;\">\n",
       "      <th></th>\n",
       "      <th>title</th>\n",
       "      <th>description</th>\n",
       "      <th>brand</th>\n",
       "    </tr>\n",
       "  </thead>\n",
       "  <tbody>\n",
       "    <tr>\n",
       "      <th>0</th>\n",
       "      <td>Beemster Gouda - Aged 18/24 Months - App. 1.5 Lbs</td>\n",
       "      <td>beemster gouda cheese aged month statement reg...</td>\n",
       "      <td>Ariola Imports</td>\n",
       "    </tr>\n",
       "    <tr>\n",
       "      <th>1</th>\n",
       "      <td>Trim Healthy Mama Xylitol</td>\n",
       "      <td>shipped uk please allow business day arrival e...</td>\n",
       "      <td></td>\n",
       "    </tr>\n",
       "    <tr>\n",
       "      <th>2</th>\n",
       "      <td>Letter C - Swarovski Crystal Monogram Wedding ...</td>\n",
       "      <td>jazz cake sparkling monogram sparkling collect...</td>\n",
       "      <td>Unik Occasions</td>\n",
       "    </tr>\n",
       "    <tr>\n",
       "      <th>3</th>\n",
       "      <td>Letter H - Swarovski Crystal Monogram Wedding ...</td>\n",
       "      <td>large letter height Other</td>\n",
       "      <td>Other</td>\n",
       "    </tr>\n",
       "    <tr>\n",
       "      <th>4</th>\n",
       "      <td>Letter S - Swarovski Crystal Monogram Wedding ...</td>\n",
       "      <td>Unik Occasions</td>\n",
       "      <td>Unik Occasions</td>\n",
       "    </tr>\n",
       "  </tbody>\n",
       "</table>\n",
       "</div>"
      ],
      "text/plain": [
       "                                               title  \\\n",
       "0  Beemster Gouda - Aged 18/24 Months - App. 1.5 Lbs   \n",
       "1                          Trim Healthy Mama Xylitol   \n",
       "2  Letter C - Swarovski Crystal Monogram Wedding ...   \n",
       "3  Letter H - Swarovski Crystal Monogram Wedding ...   \n",
       "4  Letter S - Swarovski Crystal Monogram Wedding ...   \n",
       "\n",
       "                                         description           brand  \n",
       "0  beemster gouda cheese aged month statement reg...  Ariola Imports  \n",
       "1  shipped uk please allow business day arrival e...                  \n",
       "2  jazz cake sparkling monogram sparkling collect...  Unik Occasions  \n",
       "3                          large letter height Other           Other  \n",
       "4                                     Unik Occasions  Unik Occasions  "
      ]
     },
     "execution_count": 9,
     "metadata": {},
     "output_type": "execute_result"
    }
   ],
   "source": [
    "#Concatinating description and brand columns\n",
    "train['description'] = train['description']+\" \"+train['brand']\n",
    "train.head()"
   ]
  },
  {
   "cell_type": "code",
   "execution_count": 10,
   "metadata": {},
   "outputs": [],
   "source": [
    "#Dropping the column brand\n",
    "train_v1 = train.drop(['brand'],axis=1)"
   ]
  },
  {
   "cell_type": "code",
   "execution_count": 12,
   "metadata": {},
   "outputs": [
    {
     "data": {
      "text/plain": [
       "title          0\n",
       "description    0\n",
       "dtype: int64"
      ]
     },
     "execution_count": 12,
     "metadata": {},
     "output_type": "execute_result"
    }
   ],
   "source": [
    "#Checking for null values\n",
    "train_v1.isnull().sum()"
   ]
  },
  {
   "cell_type": "code",
   "execution_count": 14,
   "metadata": {},
   "outputs": [],
   "source": [
    "#Replacing blank spaces with null\n",
    "train_v1 = train_v1.replace(r'^\\s*$', np.nan, regex=True)"
   ]
  },
  {
   "cell_type": "code",
   "execution_count": 15,
   "metadata": {},
   "outputs": [
    {
     "data": {
      "text/plain": [
       "title            0\n",
       "description    211\n",
       "dtype: int64"
      ]
     },
     "execution_count": 15,
     "metadata": {},
     "output_type": "execute_result"
    }
   ],
   "source": [
    "#Checking if there is any null values\n",
    "train_v1.isnull().sum()"
   ]
  },
  {
   "cell_type": "code",
   "execution_count": 16,
   "metadata": {},
   "outputs": [
    {
     "data": {
      "text/html": [
       "<div>\n",
       "<style scoped>\n",
       "    .dataframe tbody tr th:only-of-type {\n",
       "        vertical-align: middle;\n",
       "    }\n",
       "\n",
       "    .dataframe tbody tr th {\n",
       "        vertical-align: top;\n",
       "    }\n",
       "\n",
       "    .dataframe thead th {\n",
       "        text-align: right;\n",
       "    }\n",
       "</style>\n",
       "<table border=\"1\" class=\"dataframe\">\n",
       "  <thead>\n",
       "    <tr style=\"text-align: right;\">\n",
       "      <th></th>\n",
       "      <th>title</th>\n",
       "      <th>description</th>\n",
       "    </tr>\n",
       "  </thead>\n",
       "  <tbody>\n",
       "    <tr>\n",
       "      <th>0</th>\n",
       "      <td>Beemster Gouda - Aged 18/24 Months - App. 1.5 Lbs</td>\n",
       "      <td>beemster gouda cheese aged month statement reg...</td>\n",
       "    </tr>\n",
       "    <tr>\n",
       "      <th>1</th>\n",
       "      <td>Trim Healthy Mama Xylitol</td>\n",
       "      <td>shipped uk please allow business day arrival e...</td>\n",
       "    </tr>\n",
       "    <tr>\n",
       "      <th>2</th>\n",
       "      <td>Letter C - Swarovski Crystal Monogram Wedding ...</td>\n",
       "      <td>jazz cake sparkling monogram sparkling collect...</td>\n",
       "    </tr>\n",
       "    <tr>\n",
       "      <th>3</th>\n",
       "      <td>Letter H - Swarovski Crystal Monogram Wedding ...</td>\n",
       "      <td>large letter height Other</td>\n",
       "    </tr>\n",
       "    <tr>\n",
       "      <th>4</th>\n",
       "      <td>Letter S - Swarovski Crystal Monogram Wedding ...</td>\n",
       "      <td>Unik Occasions</td>\n",
       "    </tr>\n",
       "  </tbody>\n",
       "</table>\n",
       "</div>"
      ],
      "text/plain": [
       "                                               title  \\\n",
       "0  Beemster Gouda - Aged 18/24 Months - App. 1.5 Lbs   \n",
       "1                          Trim Healthy Mama Xylitol   \n",
       "2  Letter C - Swarovski Crystal Monogram Wedding ...   \n",
       "3  Letter H - Swarovski Crystal Monogram Wedding ...   \n",
       "4  Letter S - Swarovski Crystal Monogram Wedding ...   \n",
       "\n",
       "                                         description  \n",
       "0  beemster gouda cheese aged month statement reg...  \n",
       "1  shipped uk please allow business day arrival e...  \n",
       "2  jazz cake sparkling monogram sparkling collect...  \n",
       "3                          large letter height Other  \n",
       "4                                     Unik Occasions  "
      ]
     },
     "execution_count": 16,
     "metadata": {},
     "output_type": "execute_result"
    }
   ],
   "source": [
    "#Dropping null values\n",
    "train_v1=train_v1.dropna()\n",
    "train_v1.head()"
   ]
  },
  {
   "cell_type": "code",
   "execution_count": 18,
   "metadata": {},
   "outputs": [],
   "source": [
    "#Applying count vectorization\n",
    "count = CountVectorizer()\n",
    "count_matrix = count.fit_transform(train_v1['description'])"
   ]
  },
  {
   "cell_type": "code",
   "execution_count": 22,
   "metadata": {},
   "outputs": [],
   "source": [
    "#Finding cosine similarity\n",
    "cosine_sim = cosine_similarity(count_matrix)"
   ]
  },
  {
   "cell_type": "code",
   "execution_count": 23,
   "metadata": {},
   "outputs": [],
   "source": [
    "#SToring the cosine similarity matrix as pickle file for later purpose to build flask application\n",
    "pickle.dump(cosine_sim, open(r\"cosine_similarity.pkl\", \"wb\"))"
   ]
  },
  {
   "cell_type": "code",
   "execution_count": 25,
   "metadata": {},
   "outputs": [],
   "source": [
    "cosine_pickle = pickle.load(open(r\"cosine_similarity.pkl\", \"rb\"))"
   ]
  },
  {
   "cell_type": "code",
   "execution_count": 26,
   "metadata": {},
   "outputs": [],
   "source": [
    "#SToring the dataframe as pickle file for later purpose to build flask application\n",
    "train_v1.to_pickle(\"recommendation_data.pkl\")"
   ]
  },
  {
   "cell_type": "code",
   "execution_count": 27,
   "metadata": {},
   "outputs": [],
   "source": [
    "df = pd.read_pickle(\"recommendation_data.pkl\")\n",
    "df.set_index('title', inplace = True)"
   ]
  },
  {
   "cell_type": "code",
   "execution_count": 29,
   "metadata": {},
   "outputs": [
    {
     "data": {
      "text/plain": [
       "0    Beemster Gouda - Aged 18/24 Months - App. 1.5 Lbs\n",
       "1                            Trim Healthy Mama Xylitol\n",
       "2    Letter C - Swarovski Crystal Monogram Wedding ...\n",
       "3    Letter H - Swarovski Crystal Monogram Wedding ...\n",
       "4    Letter S - Swarovski Crystal Monogram Wedding ...\n",
       "Name: title, dtype: object"
      ]
     },
     "execution_count": 29,
     "metadata": {},
     "output_type": "execute_result"
    }
   ],
   "source": [
    "#Converting the index to series\n",
    "indices = pd.Series(df.index)\n",
    "indices[:5]"
   ]
  },
  {
   "cell_type": "code",
   "execution_count": 32,
   "metadata": {},
   "outputs": [],
   "source": [
    "# defining the function that takes in product title \n",
    "# As input and returns the top 5 recommended products\n",
    "def recommendations(title, cosine_sim = cosine_pickle):\n",
    "    \n",
    "    # initializing the empty list of recommended products\n",
    "    recommended_items = []\n",
    "    # gettin the index of the product that matches the title\n",
    "    idx = indices[indices == title].index[0]\n",
    "    # creating a Series with the similarity scores in descending order\n",
    "    score_series = pd.Series(cosine_sim[idx]).sort_values(ascending = False)\n",
    "    # getting the indexes of the 10 most similar products\n",
    "    top_10_indexes = list(score_series.iloc[1:6].index)\n",
    "    # populating the list with the titles of the best 10 matching products\n",
    "    for i in top_10_indexes:\n",
    "        recommended_items.append(list(df.index)[i])\n",
    "        \n",
    "    return recommended_items"
   ]
  },
  {
   "cell_type": "code",
   "execution_count": 33,
   "metadata": {},
   "outputs": [
    {
     "data": {
      "text/plain": [
       "[\"My Grandma's of New England Coffee Cake Custom Sampler\",\n",
       " \"Sweet'N Low&reg; Bakery Mixes Assortment - 12 pack\",\n",
       " \"Sweet'N Low&reg; Bakery Mixes Assortment - 12 pack\",\n",
       " 'Schlunder Liqueur Cake - Black Forest (14 ounce)',\n",
       " 'Schlunder Liqueur Cakes - Jamaican Rum (14 ounce)']"
      ]
     },
     "execution_count": 33,
     "metadata": {},
     "output_type": "execute_result"
    }
   ],
   "source": [
    "#Calling the recommendation function to return top 5 similar items\n",
    "recommendations('Letter C - Swarovski Crystal Monogram Wedding Cake Topper Letter')"
   ]
  }
 ],
 "metadata": {
  "kernelspec": {
   "display_name": "Python 3",
   "language": "python",
   "name": "python3"
  },
  "language_info": {
   "codemirror_mode": {
    "name": "ipython",
    "version": 3
   },
   "file_extension": ".py",
   "mimetype": "text/x-python",
   "name": "python",
   "nbconvert_exporter": "python",
   "pygments_lexer": "ipython3",
   "version": "3.7.0"
  }
 },
 "nbformat": 4,
 "nbformat_minor": 4
}
